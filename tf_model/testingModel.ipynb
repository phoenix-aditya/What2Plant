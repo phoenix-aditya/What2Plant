{
 "cells": [
  {
   "cell_type": "code",
   "execution_count": 3,
   "metadata": {},
   "outputs": [],
   "source": [
    "from tensorflow.keras.models import load_model\n",
    "import pickle\n",
    "from pickle import load"
   ]
  },
  {
   "cell_type": "code",
   "execution_count": 9,
   "metadata": {},
   "outputs": [],
   "source": [
    "import numpy as np\n",
    "from sklearn.preprocessing import MinMaxScaler"
   ]
  },
  {
   "cell_type": "code",
   "execution_count": 25,
   "metadata": {},
   "outputs": [
    {
     "data": {
      "text/plain": [
       "array([[ 90.      ,  42.      ,  43.      ,  20.879744,  82.002744,\n",
       "          6.502985, 202.935536]])"
      ]
     },
     "execution_count": 25,
     "metadata": {},
     "output_type": "execute_result"
    }
   ],
   "source": [
    "data = [90,42,43,20.879744,82.002744,6.502985,202.935536]\n",
    "X = np.array(data)\n",
    "X"
   ]
  },
  {
   "cell_type": "code",
   "execution_count": 26,
   "metadata": {},
   "outputs": [
    {
     "name": "stderr",
     "output_type": "stream",
     "text": [
      "/opt/anaconda3/envs/patrika/lib/python3.7/site-packages/sklearn/base.py:451: UserWarning: X does not have valid feature names, but MinMaxScaler was fitted with feature names\n",
      "  \"X does not have valid feature names, but\"\n"
     ]
    },
    {
     "data": {
      "text/plain": [
       "array([[0.64285714, 0.26428571, 0.19      , 0.34588614, 0.79022954,\n",
       "        0.46626359, 0.6562741 ]])"
      ]
     },
     "execution_count": 26,
     "metadata": {},
     "output_type": "execute_result"
    }
   ],
   "source": [
    "scaler = load(open('minMaxScaler.pkl', 'rb'))\n",
    "X = scaler.transform(X.reshape(1, -1))\n",
    "X"
   ]
  },
  {
   "cell_type": "code",
   "execution_count": 27,
   "metadata": {},
   "outputs": [
    {
     "data": {
      "text/plain": [
       "array([[0., 1., 0., 0., 0., 0., 0., 0., 0., 0., 0., 0., 0., 0., 0., 0.,\n",
       "        0., 0., 0., 0., 0., 0.]], dtype=float32)"
      ]
     },
     "execution_count": 27,
     "metadata": {},
     "output_type": "execute_result"
    }
   ],
   "source": [
    "model = load_model('cropPredictor.h5')\n",
    "y_preds = model.predict(np.array(data).reshape(1,-1))\n",
    "y_preds"
   ]
  },
  {
   "cell_type": "code",
   "execution_count": 12,
   "metadata": {},
   "outputs": [
    {
     "data": {
      "text/plain": [
       "[1]"
      ]
     },
     "execution_count": 12,
     "metadata": {},
     "output_type": "execute_result"
    }
   ],
   "source": [
    "label_index = np.argmax(y_preds, axis=1).tolist()\n",
    "label_index"
   ]
  },
  {
   "cell_type": "code",
   "execution_count": 14,
   "metadata": {},
   "outputs": [
    {
     "data": {
      "text/plain": [
       "'banana'"
      ]
     },
     "execution_count": 14,
     "metadata": {},
     "output_type": "execute_result"
    }
   ],
   "source": [
    "encoding = pickle.load(open('encoding.pkl', 'rb'))\n",
    "encoding[label_index[0]]"
   ]
  },
  {
   "cell_type": "code",
   "execution_count": 20,
   "metadata": {},
   "outputs": [],
   "source": [
    "def suggestCrop(N, P, K, temp, humidity, ph, rainfall):\n",
    "    data = [N, P, K, temp, humidity, ph, rainfall]\n",
    "    X = np.array([data])\n",
    "\n",
    "    model = load_model('cropPredictor.h5')\n",
    "    encoding = pickle.load(open('encoding.pkl', 'rb'))\n",
    "\n",
    "    scaler = load(open('minMaxScaler.pkl', 'rb'))\n",
    "    X = scaler.transform(X.reshape(1, -1))\n",
    "\n",
    "    print(X)\n",
    "\n",
    "    res = model.predict(X)\n",
    "    label_index = np.argmax(res, axis=1).tolist()\n",
    "\n",
    "    suggested_crop = encoding[label_index[0]]\n",
    "\n",
    "    return {'status':'OK','suggested_crop':suggested_crop}"
   ]
  },
  {
   "cell_type": "code",
   "execution_count": 36,
   "metadata": {},
   "outputs": [
    {
     "name": "stdout",
     "output_type": "stream",
     "text": [
      "[[0.04285714 0.51428571 0.075      0.48671094 0.53679971 0.39711034\n",
      "  0.10346279]]\n"
     ]
    },
    {
     "name": "stderr",
     "output_type": "stream",
     "text": [
      "/opt/anaconda3/envs/patrika/lib/python3.7/site-packages/sklearn/base.py:451: UserWarning: X does not have valid feature names, but MinMaxScaler was fitted with feature names\n",
      "  \"X does not have valid feature names, but\"\n"
     ]
    },
    {
     "data": {
      "text/plain": [
       "{'status': 'OK', 'suggested_crop': 'papaya'}"
      ]
     },
     "execution_count": 36,
     "metadata": {},
     "output_type": "execute_result"
    }
   ],
   "source": [
    "suggestCrop(6,\n",
    "77,\n",
    "20,\n",
    "25.78746268,\n",
    "60.2816298,\n",
    "6.058306161,\n",
    "49.14337177)"
   ]
  },
  {
   "cell_type": "code",
   "execution_count": null,
   "metadata": {},
   "outputs": [],
   "source": []
  }
 ],
 "metadata": {
  "interpreter": {
   "hash": "bd404510ff0e729478a311a726bac97cfff155918b1c483bef6f3b8ce3d5f091"
  },
  "kernelspec": {
   "display_name": "Python 3.7.11 ('patrika')",
   "language": "python",
   "name": "python3"
  },
  "language_info": {
   "codemirror_mode": {
    "name": "ipython",
    "version": 3
   },
   "file_extension": ".py",
   "mimetype": "text/x-python",
   "name": "python",
   "nbconvert_exporter": "python",
   "pygments_lexer": "ipython3",
   "version": "3.7.11"
  },
  "orig_nbformat": 4
 },
 "nbformat": 4,
 "nbformat_minor": 2
}
